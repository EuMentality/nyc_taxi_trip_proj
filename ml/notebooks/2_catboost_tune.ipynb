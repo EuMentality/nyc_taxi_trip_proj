{
 "cells": [
  {
   "cell_type": "code",
   "execution_count": null,
   "metadata": {},
   "outputs": [],
   "source": [
    "import pandas as pd\n",
    "import catboost"
   ]
  }
 ],
 "metadata": {
  "interpreter": {
   "hash": "be6d4f26ae4c61cd5c5e991f4df757fd4386d9a86c669d62dd857f278f619b24"
  },
  "kernelspec": {
   "display_name": "Python 3.9.7 ('nyc_taxi': venv)",
   "language": "python",
   "name": "python3"
  },
  "language_info": {
   "name": "python",
   "version": "3.9.7"
  },
  "orig_nbformat": 4
 },
 "nbformat": 4,
 "nbformat_minor": 2
}
