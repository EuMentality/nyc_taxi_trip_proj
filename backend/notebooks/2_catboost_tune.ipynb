{
 "cells": [
  {
   "cell_type": "code",
   "execution_count": 11,
   "metadata": {},
   "outputs": [],
   "source": [
    "import pandas as pd\n",
    "import numpy as np\n",
    "\n",
    "import yaml\n",
    "\n",
    "from catboost import CatBoostRegressor, Pool, metrics\n",
    "from sklearn.model_selection import train_test_split"
   ]
  },
  {
   "cell_type": "code",
   "execution_count": 12,
   "metadata": {},
   "outputs": [],
   "source": [
    "# config params\n",
    "def config():\n",
    "    with open(\"../config/params.yaml\", \"r\") as f:\n",
    "            return yaml.safe_load(f)\n",
    "\n",
    "cfg = config()\n",
    "\n",
    "# data split cfg\n",
    "test_size = cfg['data_split']['test_size']\n",
    "test_split_seed = cfg['data_split']['test_split_seed']\n",
    "valid_size = cfg['data_split']['valid_size']\n",
    "valid_split_seed = cfg['data_split']['valid_split_seed']\n",
    "\n",
    "# tuning params\n",
    "test_size = cfg['data_split']['test_size']"
   ]
  },
  {
   "cell_type": "code",
   "execution_count": 13,
   "metadata": {},
   "outputs": [],
   "source": [
    "df = pd.read_csv('https://github.com/EuMentality/datasets/raw/main/taxi_train.csv', sep=';')"
   ]
  },
  {
   "cell_type": "code",
   "execution_count": 14,
   "metadata": {},
   "outputs": [
    {
     "data": {
      "text/html": [
       "<div>\n",
       "<style scoped>\n",
       "    .dataframe tbody tr th:only-of-type {\n",
       "        vertical-align: middle;\n",
       "    }\n",
       "\n",
       "    .dataframe tbody tr th {\n",
       "        vertical-align: top;\n",
       "    }\n",
       "\n",
       "    .dataframe thead th {\n",
       "        text-align: right;\n",
       "    }\n",
       "</style>\n",
       "<table border=\"1\" class=\"dataframe\">\n",
       "  <thead>\n",
       "    <tr style=\"text-align: right;\">\n",
       "      <th></th>\n",
       "      <th>vendor_id</th>\n",
       "      <th>passenger_count</th>\n",
       "      <th>pickup_longitude</th>\n",
       "      <th>pickup_latitude</th>\n",
       "      <th>dropoff_longitude</th>\n",
       "      <th>dropoff_latitude</th>\n",
       "      <th>store_and_fwd_flag</th>\n",
       "      <th>trip_duration</th>\n",
       "      <th>pickup_month</th>\n",
       "      <th>pickup_weekday</th>\n",
       "      <th>pickup_hour</th>\n",
       "      <th>high_traffic</th>\n",
       "      <th>anomaly</th>\n",
       "      <th>manh_length</th>\n",
       "    </tr>\n",
       "  </thead>\n",
       "  <tbody>\n",
       "    <tr>\n",
       "      <th>0</th>\n",
       "      <td>2</td>\n",
       "      <td>1</td>\n",
       "      <td>-73.982155</td>\n",
       "      <td>40.767937</td>\n",
       "      <td>-73.964630</td>\n",
       "      <td>40.765602</td>\n",
       "      <td>N</td>\n",
       "      <td>6.122493</td>\n",
       "      <td>3</td>\n",
       "      <td>0</td>\n",
       "      <td>17</td>\n",
       "      <td>1</td>\n",
       "      <td>0</td>\n",
       "      <td>2.006876</td>\n",
       "    </tr>\n",
       "    <tr>\n",
       "      <th>1</th>\n",
       "      <td>1</td>\n",
       "      <td>1</td>\n",
       "      <td>-73.980415</td>\n",
       "      <td>40.738564</td>\n",
       "      <td>-73.999481</td>\n",
       "      <td>40.731152</td>\n",
       "      <td>N</td>\n",
       "      <td>6.498282</td>\n",
       "      <td>6</td>\n",
       "      <td>6</td>\n",
       "      <td>0</td>\n",
       "      <td>0</td>\n",
       "      <td>0</td>\n",
       "      <td>2.394278</td>\n",
       "    </tr>\n",
       "    <tr>\n",
       "      <th>2</th>\n",
       "      <td>2</td>\n",
       "      <td>1</td>\n",
       "      <td>-73.979027</td>\n",
       "      <td>40.763939</td>\n",
       "      <td>-74.005333</td>\n",
       "      <td>40.710087</td>\n",
       "      <td>N</td>\n",
       "      <td>7.661527</td>\n",
       "      <td>1</td>\n",
       "      <td>1</td>\n",
       "      <td>11</td>\n",
       "      <td>1</td>\n",
       "      <td>0</td>\n",
       "      <td>7.304991</td>\n",
       "    </tr>\n",
       "    <tr>\n",
       "      <th>3</th>\n",
       "      <td>2</td>\n",
       "      <td>1</td>\n",
       "      <td>-74.010040</td>\n",
       "      <td>40.719971</td>\n",
       "      <td>-74.012268</td>\n",
       "      <td>40.706718</td>\n",
       "      <td>N</td>\n",
       "      <td>6.063785</td>\n",
       "      <td>4</td>\n",
       "      <td>2</td>\n",
       "      <td>19</td>\n",
       "      <td>1</td>\n",
       "      <td>0</td>\n",
       "      <td>1.930130</td>\n",
       "    </tr>\n",
       "    <tr>\n",
       "      <th>4</th>\n",
       "      <td>2</td>\n",
       "      <td>1</td>\n",
       "      <td>-73.973053</td>\n",
       "      <td>40.793209</td>\n",
       "      <td>-73.972923</td>\n",
       "      <td>40.782520</td>\n",
       "      <td>N</td>\n",
       "      <td>6.077642</td>\n",
       "      <td>3</td>\n",
       "      <td>5</td>\n",
       "      <td>13</td>\n",
       "      <td>1</td>\n",
       "      <td>0</td>\n",
       "      <td>1.608787</td>\n",
       "    </tr>\n",
       "  </tbody>\n",
       "</table>\n",
       "</div>"
      ],
      "text/plain": [
       "   vendor_id  passenger_count  pickup_longitude  pickup_latitude  \\\n",
       "0          2                1        -73.982155        40.767937   \n",
       "1          1                1        -73.980415        40.738564   \n",
       "2          2                1        -73.979027        40.763939   \n",
       "3          2                1        -74.010040        40.719971   \n",
       "4          2                1        -73.973053        40.793209   \n",
       "\n",
       "   dropoff_longitude  dropoff_latitude store_and_fwd_flag  trip_duration  \\\n",
       "0         -73.964630         40.765602                  N       6.122493   \n",
       "1         -73.999481         40.731152                  N       6.498282   \n",
       "2         -74.005333         40.710087                  N       7.661527   \n",
       "3         -74.012268         40.706718                  N       6.063785   \n",
       "4         -73.972923         40.782520                  N       6.077642   \n",
       "\n",
       "   pickup_month  pickup_weekday  pickup_hour  high_traffic  anomaly  \\\n",
       "0             3               0           17             1        0   \n",
       "1             6               6            0             0        0   \n",
       "2             1               1           11             1        0   \n",
       "3             4               2           19             1        0   \n",
       "4             3               5           13             1        0   \n",
       "\n",
       "   manh_length  \n",
       "0     2.006876  \n",
       "1     2.394278  \n",
       "2     7.304991  \n",
       "3     1.930130  \n",
       "4     1.608787  "
      ]
     },
     "execution_count": 14,
     "metadata": {},
     "output_type": "execute_result"
    }
   ],
   "source": [
    "df.head()"
   ]
  },
  {
   "cell_type": "code",
   "execution_count": 15,
   "metadata": {},
   "outputs": [
    {
     "data": {
      "text/plain": [
       "array(['N', 'Y'], dtype=object)"
      ]
     },
     "execution_count": 15,
     "metadata": {},
     "output_type": "execute_result"
    }
   ],
   "source": [
    "df.store_and_fwd_flag.unique()"
   ]
  },
  {
   "cell_type": "code",
   "execution_count": 16,
   "metadata": {},
   "outputs": [],
   "source": [
    "cat_feature_indices = np.array([0, 1, 6, 8, 9, 10, 11])\n",
    "X = df.drop('trip_duration', axis=1)\n",
    "X.iloc[:, cat_feature_indices] = X.iloc[:, cat_feature_indices].astype(str)\n",
    "y = df.trip_duration"
   ]
  },
  {
   "cell_type": "code",
   "execution_count": 17,
   "metadata": {},
   "outputs": [
    {
     "data": {
      "text/plain": [
       "Index(['vendor_id', 'passenger_count', 'pickup_longitude', 'pickup_latitude',\n",
       "       'dropoff_longitude', 'dropoff_latitude', 'store_and_fwd_flag',\n",
       "       'pickup_month', 'pickup_weekday', 'pickup_hour', 'high_traffic',\n",
       "       'anomaly', 'manh_length'],\n",
       "      dtype='object')"
      ]
     },
     "execution_count": 17,
     "metadata": {},
     "output_type": "execute_result"
    }
   ],
   "source": [
    "X.columns"
   ]
  },
  {
   "cell_type": "code",
   "execution_count": 18,
   "metadata": {},
   "outputs": [
    {
     "data": {
      "text/plain": [
       "13"
      ]
     },
     "execution_count": 18,
     "metadata": {},
     "output_type": "execute_result"
    }
   ],
   "source": [
    "len(X.columns)"
   ]
  },
  {
   "cell_type": "code",
   "execution_count": 19,
   "metadata": {},
   "outputs": [],
   "source": [
    "cfg = config()\n",
    "cfg_split = cfg['data_split']\n",
    "cfg_hprms = cfg['hyperparams']"
   ]
  },
  {
   "cell_type": "code",
   "execution_count": 20,
   "metadata": {},
   "outputs": [],
   "source": [
    "X_train, X_test, y_train, y_test = train_test_split(X, y, test_size=0.25, random_state=20)\n",
    "X_train, X_valid, y_train, y_valid = train_test_split(X_train, y_train, test_size=0.25, random_state=20)"
   ]
  },
  {
   "cell_type": "code",
   "execution_count": 72,
   "metadata": {},
   "outputs": [],
   "source": [
    "model = CatBoostRegressor(\n",
    "            loss_function='RMSE',\n",
    "            random_seed=20,\n",
    "            early_stopping_rounds=25,\n",
    "            verbose=100\n",
    "            )"
   ]
  },
  {
   "cell_type": "code",
   "execution_count": 75,
   "metadata": {},
   "outputs": [
    {
     "name": "stdout",
     "output_type": "stream",
     "text": [
      "Learning rate set to 0.142665\n",
      "0:\tlearn: 0.6663251\ttest: 0.6682139\tbest: 0.6682139 (0)\ttotal: 148ms\tremaining: 2m 27s\n",
      "100:\tlearn: 0.4226705\ttest: 0.4258532\tbest: 0.4258532 (100)\ttotal: 12.6s\tremaining: 1m 51s\n",
      "200:\tlearn: 0.4132376\ttest: 0.4173542\tbest: 0.4173542 (200)\ttotal: 26s\tremaining: 1m 43s\n",
      "300:\tlearn: 0.4086339\ttest: 0.4136738\tbest: 0.4136738 (300)\ttotal: 38.5s\tremaining: 1m 29s\n",
      "400:\tlearn: 0.4052051\ttest: 0.4111904\tbest: 0.4111904 (400)\ttotal: 50.5s\tremaining: 1m 15s\n",
      "500:\tlearn: 0.4028380\ttest: 0.4096838\tbest: 0.4096838 (500)\ttotal: 1m 3s\tremaining: 1m 3s\n",
      "600:\tlearn: 0.4007728\ttest: 0.4085810\tbest: 0.4085810 (600)\ttotal: 1m 17s\tremaining: 51.6s\n",
      "700:\tlearn: 0.3988359\ttest: 0.4075460\tbest: 0.4075460 (700)\ttotal: 1m 32s\tremaining: 39.4s\n",
      "800:\tlearn: 0.3971837\ttest: 0.4069013\tbest: 0.4068966 (799)\ttotal: 1m 46s\tremaining: 26.5s\n",
      "900:\tlearn: 0.3955470\ttest: 0.4062224\tbest: 0.4062216 (899)\ttotal: 1m 59s\tremaining: 13.2s\n",
      "999:\tlearn: 0.3942625\ttest: 0.4056558\tbest: 0.4056558 (999)\ttotal: 2m 12s\tremaining: 0us\n",
      "\n",
      "bestTest = 0.4056557723\n",
      "bestIteration = 999\n",
      "\n"
     ]
    },
    {
     "data": {
      "text/plain": [
       "<catboost.core.CatBoostRegressor at 0x7fbec9cd31c0>"
      ]
     },
     "execution_count": 75,
     "metadata": {},
     "output_type": "execute_result"
    }
   ],
   "source": [
    "model.fit(X_train, y_train,\n",
    "         cat_features=cat_feature_indices,\n",
    "         eval_set=(X_valid, y_valid))"
   ]
  },
  {
   "cell_type": "code",
   "execution_count": 79,
   "metadata": {},
   "outputs": [],
   "source": [
    "model.save_model('../model/catboost_test.dump')"
   ]
  },
  {
   "cell_type": "code",
   "execution_count": 22,
   "metadata": {},
   "outputs": [],
   "source": [
    "model = CatBoostRegressor().load_model('../model/catboost_test.dump')\n"
   ]
  },
  {
   "cell_type": "code",
   "execution_count": 23,
   "metadata": {},
   "outputs": [
    {
     "data": {
      "text/html": [
       "<div>\n",
       "<style scoped>\n",
       "    .dataframe tbody tr th:only-of-type {\n",
       "        vertical-align: middle;\n",
       "    }\n",
       "\n",
       "    .dataframe tbody tr th {\n",
       "        vertical-align: top;\n",
       "    }\n",
       "\n",
       "    .dataframe thead th {\n",
       "        text-align: right;\n",
       "    }\n",
       "</style>\n",
       "<table border=\"1\" class=\"dataframe\">\n",
       "  <thead>\n",
       "    <tr style=\"text-align: right;\">\n",
       "      <th></th>\n",
       "      <th>vendor_id</th>\n",
       "      <th>passenger_count</th>\n",
       "      <th>pickup_longitude</th>\n",
       "      <th>pickup_latitude</th>\n",
       "      <th>dropoff_longitude</th>\n",
       "      <th>dropoff_latitude</th>\n",
       "      <th>store_and_fwd_flag</th>\n",
       "      <th>pickup_month</th>\n",
       "      <th>pickup_weekday</th>\n",
       "      <th>pickup_hour</th>\n",
       "      <th>high_traffic</th>\n",
       "      <th>anomaly</th>\n",
       "      <th>manh_length</th>\n",
       "    </tr>\n",
       "  </thead>\n",
       "  <tbody>\n",
       "    <tr>\n",
       "      <th>1014416</th>\n",
       "      <td>2</td>\n",
       "      <td>1</td>\n",
       "      <td>-73.994431</td>\n",
       "      <td>40.760929</td>\n",
       "      <td>-73.993378</td>\n",
       "      <td>40.718971</td>\n",
       "      <td>N</td>\n",
       "      <td>1</td>\n",
       "      <td>0</td>\n",
       "      <td>19</td>\n",
       "      <td>1</td>\n",
       "      <td>0</td>\n",
       "      <td>6.298186</td>\n",
       "    </tr>\n",
       "    <tr>\n",
       "      <th>867840</th>\n",
       "      <td>2</td>\n",
       "      <td>1</td>\n",
       "      <td>-73.971230</td>\n",
       "      <td>40.792828</td>\n",
       "      <td>-73.971848</td>\n",
       "      <td>40.786343</td>\n",
       "      <td>N</td>\n",
       "      <td>5</td>\n",
       "      <td>4</td>\n",
       "      <td>16</td>\n",
       "      <td>1</td>\n",
       "      <td>0</td>\n",
       "      <td>0.959240</td>\n",
       "    </tr>\n",
       "    <tr>\n",
       "      <th>55474</th>\n",
       "      <td>2</td>\n",
       "      <td>1</td>\n",
       "      <td>-73.998322</td>\n",
       "      <td>40.728653</td>\n",
       "      <td>-73.952553</td>\n",
       "      <td>40.784039</td>\n",
       "      <td>N</td>\n",
       "      <td>2</td>\n",
       "      <td>5</td>\n",
       "      <td>4</td>\n",
       "      <td>0</td>\n",
       "      <td>0</td>\n",
       "      <td>7.375032</td>\n",
       "    </tr>\n",
       "    <tr>\n",
       "      <th>1114250</th>\n",
       "      <td>2</td>\n",
       "      <td>1</td>\n",
       "      <td>-73.993011</td>\n",
       "      <td>40.747692</td>\n",
       "      <td>-73.980339</td>\n",
       "      <td>40.740200</td>\n",
       "      <td>N</td>\n",
       "      <td>2</td>\n",
       "      <td>2</td>\n",
       "      <td>20</td>\n",
       "      <td>1</td>\n",
       "      <td>0</td>\n",
       "      <td>1.702462</td>\n",
       "    </tr>\n",
       "    <tr>\n",
       "      <th>843792</th>\n",
       "      <td>1</td>\n",
       "      <td>1</td>\n",
       "      <td>-73.982811</td>\n",
       "      <td>40.769188</td>\n",
       "      <td>-73.946396</td>\n",
       "      <td>40.777248</td>\n",
       "      <td>N</td>\n",
       "      <td>3</td>\n",
       "      <td>3</td>\n",
       "      <td>22</td>\n",
       "      <td>0</td>\n",
       "      <td>0</td>\n",
       "      <td>4.309079</td>\n",
       "    </tr>\n",
       "    <tr>\n",
       "      <th>...</th>\n",
       "      <td>...</td>\n",
       "      <td>...</td>\n",
       "      <td>...</td>\n",
       "      <td>...</td>\n",
       "      <td>...</td>\n",
       "      <td>...</td>\n",
       "      <td>...</td>\n",
       "      <td>...</td>\n",
       "      <td>...</td>\n",
       "      <td>...</td>\n",
       "      <td>...</td>\n",
       "      <td>...</td>\n",
       "      <td>...</td>\n",
       "    </tr>\n",
       "    <tr>\n",
       "      <th>426637</th>\n",
       "      <td>1</td>\n",
       "      <td>1</td>\n",
       "      <td>-73.960175</td>\n",
       "      <td>40.765369</td>\n",
       "      <td>-73.958588</td>\n",
       "      <td>40.776539</td>\n",
       "      <td>N</td>\n",
       "      <td>1</td>\n",
       "      <td>3</td>\n",
       "      <td>8</td>\n",
       "      <td>1</td>\n",
       "      <td>0</td>\n",
       "      <td>1.635847</td>\n",
       "    </tr>\n",
       "    <tr>\n",
       "      <th>315360</th>\n",
       "      <td>1</td>\n",
       "      <td>1</td>\n",
       "      <td>-73.956146</td>\n",
       "      <td>40.778648</td>\n",
       "      <td>-73.968925</td>\n",
       "      <td>40.761040</td>\n",
       "      <td>N</td>\n",
       "      <td>6</td>\n",
       "      <td>0</td>\n",
       "      <td>6</td>\n",
       "      <td>0</td>\n",
       "      <td>0</td>\n",
       "      <td>2.258254</td>\n",
       "    </tr>\n",
       "    <tr>\n",
       "      <th>1067269</th>\n",
       "      <td>2</td>\n",
       "      <td>1</td>\n",
       "      <td>-73.988907</td>\n",
       "      <td>40.743629</td>\n",
       "      <td>-73.982933</td>\n",
       "      <td>40.721111</td>\n",
       "      <td>N</td>\n",
       "      <td>4</td>\n",
       "      <td>1</td>\n",
       "      <td>12</td>\n",
       "      <td>1</td>\n",
       "      <td>0</td>\n",
       "      <td>3.211386</td>\n",
       "    </tr>\n",
       "    <tr>\n",
       "      <th>182327</th>\n",
       "      <td>1</td>\n",
       "      <td>1</td>\n",
       "      <td>-73.997841</td>\n",
       "      <td>40.720352</td>\n",
       "      <td>-73.976959</td>\n",
       "      <td>40.775963</td>\n",
       "      <td>N</td>\n",
       "      <td>6</td>\n",
       "      <td>2</td>\n",
       "      <td>21</td>\n",
       "      <td>0</td>\n",
       "      <td>0</td>\n",
       "      <td>7.739591</td>\n",
       "    </tr>\n",
       "    <tr>\n",
       "      <th>398256</th>\n",
       "      <td>1</td>\n",
       "      <td>4</td>\n",
       "      <td>-73.951874</td>\n",
       "      <td>40.793388</td>\n",
       "      <td>-73.982063</td>\n",
       "      <td>40.749313</td>\n",
       "      <td>N</td>\n",
       "      <td>6</td>\n",
       "      <td>2</td>\n",
       "      <td>20</td>\n",
       "      <td>1</td>\n",
       "      <td>0</td>\n",
       "      <td>5.708563</td>\n",
       "    </tr>\n",
       "  </tbody>\n",
       "</table>\n",
       "<p>314518 rows × 13 columns</p>\n",
       "</div>"
      ],
      "text/plain": [
       "        vendor_id passenger_count  pickup_longitude  pickup_latitude  \\\n",
       "1014416         2               1        -73.994431        40.760929   \n",
       "867840          2               1        -73.971230        40.792828   \n",
       "55474           2               1        -73.998322        40.728653   \n",
       "1114250         2               1        -73.993011        40.747692   \n",
       "843792          1               1        -73.982811        40.769188   \n",
       "...           ...             ...               ...              ...   \n",
       "426637          1               1        -73.960175        40.765369   \n",
       "315360          1               1        -73.956146        40.778648   \n",
       "1067269         2               1        -73.988907        40.743629   \n",
       "182327          1               1        -73.997841        40.720352   \n",
       "398256          1               4        -73.951874        40.793388   \n",
       "\n",
       "         dropoff_longitude  dropoff_latitude store_and_fwd_flag  pickup_month  \\\n",
       "1014416         -73.993378         40.718971                  N             1   \n",
       "867840          -73.971848         40.786343                  N             5   \n",
       "55474           -73.952553         40.784039                  N             2   \n",
       "1114250         -73.980339         40.740200                  N             2   \n",
       "843792          -73.946396         40.777248                  N             3   \n",
       "...                    ...               ...                ...           ...   \n",
       "426637          -73.958588         40.776539                  N             1   \n",
       "315360          -73.968925         40.761040                  N             6   \n",
       "1067269         -73.982933         40.721111                  N             4   \n",
       "182327          -73.976959         40.775963                  N             6   \n",
       "398256          -73.982063         40.749313                  N             6   \n",
       "\n",
       "        pickup_weekday pickup_hour high_traffic anomaly  manh_length  \n",
       "1014416              0          19            1       0     6.298186  \n",
       "867840               4          16            1       0     0.959240  \n",
       "55474                5           4            0       0     7.375032  \n",
       "1114250              2          20            1       0     1.702462  \n",
       "843792               3          22            0       0     4.309079  \n",
       "...                ...         ...          ...     ...          ...  \n",
       "426637               3           8            1       0     1.635847  \n",
       "315360               0           6            0       0     2.258254  \n",
       "1067269              1          12            1       0     3.211386  \n",
       "182327               2          21            0       0     7.739591  \n",
       "398256               2          20            1       0     5.708563  \n",
       "\n",
       "[314518 rows x 13 columns]"
      ]
     },
     "execution_count": 23,
     "metadata": {},
     "output_type": "execute_result"
    }
   ],
   "source": [
    "X_test"
   ]
  },
  {
   "cell_type": "code",
   "execution_count": 25,
   "metadata": {},
   "outputs": [
    {
     "data": {
      "text/plain": [
       "(314518, 13)"
      ]
     },
     "execution_count": 25,
     "metadata": {},
     "output_type": "execute_result"
    }
   ],
   "source": [
    "X_test.shape"
   ]
  },
  {
   "cell_type": "code",
   "execution_count": 27,
   "metadata": {},
   "outputs": [
    {
     "name": "stdout",
     "output_type": "stream",
     "text": [
      "<class 'pandas.core.frame.DataFrame'>\n",
      "Int64Index: 314518 entries, 1014416 to 398256\n",
      "Data columns (total 13 columns):\n",
      " #   Column              Non-Null Count   Dtype  \n",
      "---  ------              --------------   -----  \n",
      " 0   vendor_id           314518 non-null  object \n",
      " 1   passenger_count     314518 non-null  object \n",
      " 2   pickup_longitude    314518 non-null  float64\n",
      " 3   pickup_latitude     314518 non-null  float64\n",
      " 4   dropoff_longitude   314518 non-null  float64\n",
      " 5   dropoff_latitude    314518 non-null  float64\n",
      " 6   store_and_fwd_flag  314518 non-null  object \n",
      " 7   pickup_month        314518 non-null  int64  \n",
      " 8   pickup_weekday      314518 non-null  object \n",
      " 9   pickup_hour         314518 non-null  object \n",
      " 10  high_traffic        314518 non-null  object \n",
      " 11  anomaly             314518 non-null  object \n",
      " 12  manh_length         313485 non-null  float64\n",
      "dtypes: float64(5), int64(1), object(7)\n",
      "memory usage: 33.6+ MB\n"
     ]
    }
   ],
   "source": [
    "X_test.info()"
   ]
  },
  {
   "cell_type": "code",
   "execution_count": null,
   "metadata": {},
   "outputs": [],
   "source": []
  },
  {
   "cell_type": "code",
   "execution_count": 26,
   "metadata": {},
   "outputs": [
    {
     "data": {
      "text/plain": [
       "5.485760122718789"
      ]
     },
     "execution_count": 26,
     "metadata": {},
     "output_type": "execute_result"
    }
   ],
   "source": [
    "model.predict(X_test.iloc[1, :])"
   ]
  },
  {
   "cell_type": "code",
   "execution_count": 80,
   "metadata": {},
   "outputs": [
    {
     "data": {
      "text/plain": [
       "<catboost.core.CatBoostRegressor at 0x7fbec9cccf40>"
      ]
     },
     "execution_count": 80,
     "metadata": {},
     "output_type": "execute_result"
    }
   ],
   "source": [
    "# asd = CatBoostRegressor()\n",
    "# asd.load_model('../model/catboost_test.dump')"
   ]
  },
  {
   "cell_type": "code",
   "execution_count": null,
   "metadata": {},
   "outputs": [],
   "source": []
  },
  {
   "cell_type": "code",
   "execution_count": null,
   "metadata": {},
   "outputs": [],
   "source": []
  },
  {
   "cell_type": "code",
   "execution_count": null,
   "metadata": {},
   "outputs": [],
   "source": []
  },
  {
   "cell_type": "code",
   "execution_count": null,
   "metadata": {},
   "outputs": [],
   "source": []
  },
  {
   "cell_type": "code",
   "execution_count": null,
   "metadata": {},
   "outputs": [],
   "source": []
  },
  {
   "cell_type": "code",
   "execution_count": null,
   "metadata": {},
   "outputs": [],
   "source": []
  },
  {
   "cell_type": "code",
   "execution_count": null,
   "metadata": {},
   "outputs": [],
   "source": []
  }
 ],
 "metadata": {
  "kernelspec": {
   "display_name": "Python 3.9.7 ('taxi_nyc_backend': venv)",
   "language": "python",
   "name": "python3"
  },
  "language_info": {
   "codemirror_mode": {
    "name": "ipython",
    "version": 3
   },
   "file_extension": ".py",
   "mimetype": "text/x-python",
   "name": "python",
   "nbconvert_exporter": "python",
   "pygments_lexer": "ipython3",
   "version": "3.9.7"
  },
  "orig_nbformat": 4,
  "vscode": {
   "interpreter": {
    "hash": "508b1a413380b6697902e22839e75e41117dc74eeaf5c87fea6fe1d08c8945e7"
   }
  }
 },
 "nbformat": 4,
 "nbformat_minor": 2
}
